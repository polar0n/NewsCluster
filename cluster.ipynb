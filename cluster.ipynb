{
 "cells": [
  {
   "cell_type": "code",
   "execution_count": 72,
   "metadata": {},
   "outputs": [],
   "source": [
    "import numpy as np\n",
    "import json"
   ]
  },
  {
   "cell_type": "code",
   "execution_count": 54,
   "metadata": {},
   "outputs": [],
   "source": [
    "corpus = np.load('corpus.npy')"
   ]
  },
  {
   "cell_type": "code",
   "execution_count": 55,
   "metadata": {},
   "outputs": [],
   "source": [
    "k = 10\n",
    "objective = list()\n",
    "centers = corpus[np.random.choice(np.arange(corpus.shape[0]), k, replace=False)]\n",
    "groups = np.array([np.argmin([np.linalg.norm(center - x) for center in centers]) for x in corpus])\n",
    "objective.append(\n",
    "    np.array([np.linalg.norm(corpus[i] - centers[groups[i]]) for i in range(corpus.shape[0])]).sum()\n",
    ")\n",
    "\n",
    "i = 0\n",
    "while True:\n",
    "    centers = np.array([corpus[groups == g].mean(axis=0) for g in range(k)])\n",
    "    groups = np.array([np.argmin([np.linalg.norm(center - x) for center in centers]) for x in corpus])\n",
    "    objective.append(\n",
    "        np.array([np.linalg.norm(corpus[i] - centers[groups[i]]) for i in range(corpus.shape[0])]).mean()\n",
    "    )\n",
    "    if i > 2 and ((objective[-1] - objective[-2]) + (objective[-2] - objective[-3])) < 1.0:\n",
    "        break\n",
    "    i += 1"
   ]
  },
  {
   "cell_type": "code",
   "execution_count": 56,
   "metadata": {},
   "outputs": [
    {
     "data": {
      "text/plain": [
       "np.float64(28.881554138543702)"
      ]
     },
     "execution_count": 56,
     "metadata": {},
     "output_type": "execute_result"
    }
   ],
   "source": [
    "objective[-1]"
   ]
  },
  {
   "cell_type": "code",
   "execution_count": 57,
   "metadata": {},
   "outputs": [
    {
     "data": {
      "text/plain": [
       "array([0, 0, 1, ..., 0, 0, 0])"
      ]
     },
     "execution_count": 57,
     "metadata": {},
     "output_type": "execute_result"
    }
   ],
   "source": [
    "corpus[groups == 0][0]"
   ]
  },
  {
   "cell_type": "markdown",
   "metadata": {},
   "source": [
    "How many articles in each cluster"
   ]
  },
  {
   "cell_type": "code",
   "execution_count": 58,
   "metadata": {},
   "outputs": [
    {
     "data": {
      "text/plain": [
       "{0: 123, 1: 70, 2: 225, 3: 224, 4: 167, 5: 53, 6: 631, 7: 283, 8: 56, 9: 1172}"
      ]
     },
     "execution_count": 58,
     "metadata": {},
     "output_type": "execute_result"
    }
   ],
   "source": [
    "{g: corpus[groups == g].shape[0] for g in range(10)}"
   ]
  },
  {
   "cell_type": "markdown",
   "metadata": {},
   "source": [
    "Identify the words present in each cluster"
   ]
  },
  {
   "cell_type": "code",
   "execution_count": 59,
   "metadata": {},
   "outputs": [],
   "source": [
    "words = np.load('words.npy')"
   ]
  },
  {
   "cell_type": "code",
   "execution_count": 60,
   "metadata": {},
   "outputs": [],
   "source": [
    "cluster_word_histogram = corpus[groups == 5].sum(axis=0)"
   ]
  },
  {
   "cell_type": "code",
   "execution_count": 61,
   "metadata": {},
   "outputs": [],
   "source": [
    "non_zero_i = np.where(cluster_word_histogram > 0)"
   ]
  },
  {
   "cell_type": "code",
   "execution_count": 62,
   "metadata": {},
   "outputs": [],
   "source": [
    "cluster_hist_norm = cluster_word_histogram / np.linalg.norm(cluster_word_histogram)"
   ]
  },
  {
   "cell_type": "code",
   "execution_count": 63,
   "metadata": {},
   "outputs": [
    {
     "data": {
      "text/plain": [
       "dtype('float64')"
      ]
     },
     "execution_count": 63,
     "metadata": {},
     "output_type": "execute_result"
    }
   ],
   "source": [
    "cluster_hist_norm.dtype"
   ]
  },
  {
   "cell_type": "code",
   "execution_count": 64,
   "metadata": {},
   "outputs": [
    {
     "name": "stdout",
     "output_type": "stream",
     "text": [
      "missile brother attack state child strike president picture support administration war volodymyr friday dust region sense result middle city zelensky defense boy store russia day federation body rubble prosecutor kharkiv cnn address minister blue debris ministry village border chief thursday morning evening term analyst month meanwhile kyiv germany intelligence start battle territory count figure front monitoring week invasion lot information fleet action vladimir round source fight blast design force amount storage group ammunition reserve half chance equipment replacement way armor toll tank evidence britain infantry ukraine technology moscow website paper focus enforcement court street food law affiliate return shooting course worker goal david name france paris building responsibility maintenance total crowd part phone northeast time cover area list woman world turkey afternoon operation order flight terror face warrant security publication sign peninsula newspaper search terrorism bombing assault officer authority arrest station decision police training drone israel look suburb december march guest death honor tide investigation briefly wife girlfriend bomb official title gas connection magazine airport team step guard college jim attitude head minute opening form practice game hand appearance sure nation seed ball competition side year foul shot none place victory martin something dream corner pressure call margin feel point florida coach clash experience diego home michael play beginning kind championship win expectation basketball story season run madness loss university sunday need contest success vehicle potential rule parade road australia native ranking georgia program power pass hope eye role draft plenty class speed nfl level opportunity jail driving injury journey floor prospect consideration hall ability decline champion combination community crash england contact life california stock francisco end rise member joy network ambition line defeat field top staff player fine football branch washington service number pick spring los strength africa star everything york turn discussion cup july broadcast payment statement price organization money event trade move sport development portion record mistake russian june attempt match john wednesday virginia rally water tension favorite set heart judge bit fact momentum monday saturday manager beat host door today right bottom rest tim wall drive answer inning slam spot thing series stranger moment contract deal captain guy sight pitch process family center tone one display faith exception peace room drug space sky isolation darkness material future bed structure pat speculation light silence talk film purpose tuesday uncertainty news medicine interest career gon stay mind perspective work trip extension interview someone anybody everybody drama april choice joe press direction robert facility chapter conference couple thank instagram night dialogue character culture fire situation reality league matter love intention show route path safety case executive commitment anyone schedule rate piece site data glory get message reaction difference surface health tribute policy post idea surgery use recovery fan twitter vice september age occasion heir winning lack clarity option vegas ceo partner trio change allen footage tweet beach tom veteran rain disappointment pair insurance peter camp ben reception tour justin presence business agency kid ring drop history helm environment super award aim collection surprise position peak roster knee theater color issue voting london control cause opposition protest justice letter type impact blogger inquiry argument procedure example august offense fear act provision person threat sentence custody think ruling movement care comfort legislation government delivery prosecution subject outrage parliament progress director prison summer access lawmaker behalf limit decade poland crisis agenda crime birth var nothing stake lead mike box victor anxiety suggestion penalty wealth leg clock finish inter tie help atmosphere rape club spokesperson truth office kick institution jet rebellion living pain country comment touch luxury population vessel party industry climate reason campaign video standard land rio foot seat performance race dominance adam distance bbc dutch activity radio commission signal construction house property apartment topic institute appeal professor town hit score base management article image girl committee stance fit ally research dress ambassador model everyone platform criticism representative scenario solution card commissioner division opponent percentage weekend release proposal plan meeting vote status era wing scrutiny participation chaos candidate spokesman transformation constitution general alternative migration mood alarm leadership democracy union district scientist election trust inflation opinion warning energy secretary surveillance triumph danger polling page wake crackdown employment tradition sector public concept protection job past challenge october conflict percent parent alexander syria afghanistan addition debate association army speaking man praise attention view influx chairman poll zone society facebook popularity response effort reputation armed conduct royal question friend cooperation museum stand awareness integrity department racist skin gesture education incident abuse rocket journalist courage brown reporter personality yesterday bakhmut respect basis rome camera colleague shelling reminder coordinator share citizen baby reporting birthday peskov market suffering table leader scheme recognition dmitry continent initiative petersburg grain shelter kremlin resolution putin fault approach mission survey capital nba project quarter fall read pandemic stage partnership back violence videos mark collapse try playing flag caption putt par chest escape cut tee wave fun hole chris left save removal resort range problem link fraud ban importance school wrongdoing emergency report firm firing board scene january trouble forward gun spoke southeast davis backdrop hearing suspect murder air value tool exhibition science river northwest belief detail reference significance rock commander length landing satellite century resistance fee creation book launch meaning promise passion suit frustration iron hold cost reconnaissance analysis wind earth anniversary array desire neighbor kingdom window republic rhetoric minority commentator car north independence system defender blinken mayor degree date context survival agreement west nato antony ground regime majority open november see announcement behavior resident disaster lawyer journal request membership allegation chess fellow language cross activist trial prize politician belarus charge freedom imprisonment tass referendum bus harm confrontation sorry damage version advantage fame arsenal restaurant tunnel company row friendship brand van feat aviation husband complaint coordination email ice adviser viktor europe extreme switzerland presidency deputy council transfer factory bloc exercise detention ioc treaty father insurrection lukashenko son farm hockey der speech mother agent proud humanity hate alexey account youtube channel claim hospital evacuation ria east nerve height crowds violation challenger hunger winter doctor involvement assistance sleep boss treatment fsb blow audience plane maria cell spirit daughter scale struggle outfit risk knowledge exchange internet photos voice variety athlete condition heat hour sound television concern gold arm exit capability fighter navy magnitude feeling aircraft thompson sister student teenage substitute heritage generation hero shape error pool squad priority mountain rescue embassy bridge tourist victim professional medal confidence pattern researcher vision phenomenon expression wider style motivation second session stephen king communication author wish horror shortage bill funding package artillery establishment losing mutiny wagner biden dark production alliance budget doubt strategy trump stress chair pentagon counteroffensive resolve tomorrow music forum economy demand aid donald measure rob oil mainland period plant dna art contrast study max palace human nature memory relationship yevgeny arrival prigozhin medvedev killing founder asylum frontline bar testing animal unit neck adult discipline worth messaging paul romania identity condemnation conversation guidance influence gap online conspiracy thinking content pursuit proof god application male headquarters favor notice jury dan photo edge determination ovation break metal circle draw serve aftermath mean anything deficit capture credit average sentiment george surge associate coalition visit teacher while explosion hometown dnipro teenager novosti pmc telegram mass possession mine section welcome stop increase sweden assembly shock park operating mobilization individual writing mom crew comparison passing nobody electricity hair size trend profile tragedy accident spell marine antonio euro welfare tourism residence pay fuel diplomat train dmytro push standing congress weaponry south fashion battlefield stability austin aggression review racing trainer running governing whistle smoke wait america outlet coast sporting anthem heard shop legend update reward highway cash attendance sun sergey donetsk word soldier absence formula accordance settlement entrance breakaway supply passage traffic temperature church spokeswoman ceasefire pipeline corridor throw dispute patrick preparation chechen relation supporter explanation blood close regulation encounter destination luck test stuff thought oleksandr reach possibility depth ease entry category understand sale task japan net victoria iga regard dog iran sent venue roof asia learning china korea introduction weight track holder aspect rival concert taylor block admission investment dollar briefing meant capacity element labor island port defence come sheet counterpart balance richard sea waste landscape spending anthony crossing privilege manner privacy trauma soil income closing watch occupation feature growth dozen effect photograph photographs breach boat weapon centre refugee weather ship ocean assessment cap phase location specialist machine command rear distraction sex formation spread bureau broadcasting shift burning noise sam fate plea anger sort gulf method hunt housing garden gift india advance existence grant southwest indication volunteer complex relentless holiday extent midnight helicopter bank shoulder confusion foundation brain glimpse handling sovereignty recruitment expense combat warfare relief mix note whole tony outside breakthrough intensity improvement mindset outcome lap target steph pilot theme transport wreckage hardware patience equivalent spotlight johnson fund offer kate band code export planning agriculture meat icon governor met calm expert francis theory illness eve text intent cruise household episode walk marketing actor hotel quality failure coverage swing ride volume skill raid ryan hill contribution blame overnight appointment worldwide bid unity witness chain truck bin document understanding hub infrastructure pledge engine repeat jon empire expansion torture sudan convention beijing military citizenship pack stone tax flood backing cluster split glad movie key lee engineering green ivan daniil withdrawal usa completion brazil symbol writer disruption summit zaporizhzhia battalion devastation prisoner fighting crimea mariupol clip hanna string sbu bombardment procession sergei tayyip recep erdogan chase pension glass nickname soledar brigade donbas enemy boost luhansk square offensive isw factor gain destruction shoigu flow liga affair giant scandal corruption pace instance flagship correspondent handful core imagery patriot gathering escalation uprising shell collaboration barrage upset clinic compatriot belt stint phil driver screen earthquake accommodation travel grip grandfather radar odesa benefit timing lesson shadow funeral globe sevastopol kherson brink bull las boris successor fallout reading finance loyalty passport erik circuit stretch guarantee ryder willingness chip promotion serie showing griner brittney diana delay storm haul podolyak mykhailo coup liberation defensive reign jump feud sovereign consort morale deployment makeshift matt format pep businessman oligarch manufacturer propaganda mikhail rail device del check superiority refusal qualifying demonstration flooding aware jorge tech giorgia meloni leopard principle libya valery railway gerasimov\n"
     ]
    }
   ],
   "source": [
    "print(*words[non_zero_i])"
   ]
  },
  {
   "cell_type": "code",
   "execution_count": 65,
   "metadata": {},
   "outputs": [],
   "source": [
    "values_i = np.argsort(cluster_hist_norm)[::-1]"
   ]
  },
  {
   "cell_type": "code",
   "execution_count": 66,
   "metadata": {},
   "outputs": [
    {
     "data": {
      "text/plain": [
       "np.int64(1872)"
      ]
     },
     "execution_count": 66,
     "metadata": {},
     "output_type": "execute_result"
    }
   ],
   "source": [
    "cluster_word_histogram[values_i[0]]"
   ]
  },
  {
   "cell_type": "code",
   "execution_count": 67,
   "metadata": {},
   "outputs": [
    {
     "data": {
      "text/plain": [
       "array(['russia', 'rain', 'russian', ..., 'locker', 'contender',\n",
       "       'accuracy'], dtype='<U16')"
      ]
     },
     "execution_count": 67,
     "metadata": {},
     "output_type": "execute_result"
    }
   ],
   "source": [
    "words[values_i]"
   ]
  },
  {
   "cell_type": "code",
   "execution_count": 68,
   "metadata": {},
   "outputs": [
    {
     "data": {
      "text/plain": [
       "np.int64(24)"
      ]
     },
     "execution_count": 68,
     "metadata": {},
     "output_type": "execute_result"
    }
   ],
   "source": [
    "cluster_word_histogram.argmax()"
   ]
  },
  {
   "cell_type": "code",
   "execution_count": 70,
   "metadata": {},
   "outputs": [
    {
     "data": {
      "text/plain": [
       "np.str_('russia')"
      ]
     },
     "execution_count": 70,
     "metadata": {},
     "output_type": "execute_result"
    }
   ],
   "source": [
    "words[24]"
   ]
  },
  {
   "cell_type": "code",
   "execution_count": 71,
   "metadata": {},
   "outputs": [
    {
     "data": {
      "text/plain": [
       "array([[4, 2, 5, ..., 0, 0, 0],\n",
       "       [0, 0, 0, ..., 0, 0, 0],\n",
       "       [0, 7, 9, ..., 0, 0, 0],\n",
       "       ...,\n",
       "       [0, 0, 0, ..., 0, 0, 0],\n",
       "       [0, 0, 0, ..., 0, 0, 0],\n",
       "       [0, 0, 0, ..., 0, 0, 0]])"
      ]
     },
     "execution_count": 71,
     "metadata": {},
     "output_type": "execute_result"
    }
   ],
   "source": [
    "corpus"
   ]
  },
  {
   "cell_type": "code",
   "execution_count": 96,
   "metadata": {},
   "outputs": [],
   "source": [
    "articles = list()\n",
    "with open('articles.json', 'r', encoding='utf-8') as f:\n",
    "    articles = json.load(f)"
   ]
  },
  {
   "cell_type": "code",
   "execution_count": 91,
   "metadata": {},
   "outputs": [],
   "source": [
    "articles = np.array(articles)"
   ]
  },
  {
   "cell_type": "code",
   "execution_count": 97,
   "metadata": {},
   "outputs": [
    {
     "data": {
      "text/plain": [
       "['2023-10-07',\n",
       " '10-year-old boy killed in Kharkiv was asleep when Russian missile hit, Ukraine says',\n",
       " 'https://edition.cnn.com/2023/10/06/europe/10-year-old-ukraine-boy-asleep-when-russia-drone-strike-intl-hnk/index.html',\n",
       " '10-year-old-ukraine-boy-asleep-when-russia-drone-strike-intl-hnk',\n",
       " 'europe']"
      ]
     },
     "execution_count": 97,
     "metadata": {},
     "output_type": "execute_result"
    }
   ],
   "source": [
    "articles[0]"
   ]
  },
  {
   "cell_type": "code",
   "execution_count": 92,
   "metadata": {},
   "outputs": [
    {
     "ename": "IndexError",
     "evalue": "boolean index did not match indexed array along axis 0; size of axis is 3015 but size of corresponding boolean axis is 3004",
     "output_type": "error",
     "traceback": [
      "\u001b[1;31m---------------------------------------------------------------------------\u001b[0m",
      "\u001b[1;31mIndexError\u001b[0m                                Traceback (most recent call last)",
      "Cell \u001b[1;32mIn[92], line 1\u001b[0m\n\u001b[1;32m----> 1\u001b[0m \u001b[43marticles\u001b[49m\u001b[43m[\u001b[49m\u001b[43mgroups\u001b[49m\u001b[43m \u001b[49m\u001b[38;5;241;43m==\u001b[39;49m\u001b[43m \u001b[49m\u001b[38;5;241;43m9\u001b[39;49m\u001b[43m]\u001b[49m\n",
      "\u001b[1;31mIndexError\u001b[0m: boolean index did not match indexed array along axis 0; size of axis is 3015 but size of corresponding boolean axis is 3004"
     ]
    }
   ],
   "source": [
    "articles[groups == 9]"
   ]
  },
  {
   "cell_type": "code",
   "execution_count": 98,
   "metadata": {},
   "outputs": [],
   "source": [
    "import os\n",
    "article_names = list(map(lambda name: name[:-5], os.listdir('nouns/')))"
   ]
  },
  {
   "cell_type": "code",
   "execution_count": 99,
   "metadata": {},
   "outputs": [],
   "source": []
  },
  {
   "cell_type": "code",
   "execution_count": 100,
   "metadata": {},
   "outputs": [],
   "source": [
    "for article in articles:\n",
    "    if article[3] in article_names:\n",
    "        continue\n",
    "    articles.remove(article)"
   ]
  },
  {
   "cell_type": "code",
   "execution_count": 101,
   "metadata": {},
   "outputs": [
    {
     "data": {
      "text/plain": [
       "3015"
      ]
     },
     "execution_count": 101,
     "metadata": {},
     "output_type": "execute_result"
    }
   ],
   "source": [
    "len(articles)"
   ]
  },
  {
   "cell_type": "code",
   "execution_count": 81,
   "metadata": {},
   "outputs": [
    {
     "data": {
      "text/plain": [
       "array(['10-year-old-ukraine-boy-asleep-when-russia-drone-strike-intl-hnk',\n",
       "       '1000-russian-tanks-destroyed-ukraine-war-intl-hnk-ml',\n",
       "       '2015-paris-terror-attacks-fast-facts', ...,\n",
       "       'zlatan-ibrahimovic-oldest-ever-goalscorer-serie-a-spt-intl',\n",
       "       'zlatan-ibrahimovic-retires-intl-hnk-spt',\n",
       "       'zoo-elephant-peels-bananas-scn'], dtype='<U97')"
      ]
     },
     "execution_count": 81,
     "metadata": {},
     "output_type": "execute_result"
    }
   ],
   "source": [
    "articles"
   ]
  },
  {
   "cell_type": "code",
   "execution_count": 87,
   "metadata": {},
   "outputs": [],
   "source": [
    "nodes = list()"
   ]
  },
  {
   "cell_type": "code",
   "execution_count": 88,
   "metadata": {},
   "outputs": [],
   "source": [
    "for article in articles[groups == 0]:\n",
    "    nodes.append({\n",
    "        'id': article[1],\n",
    "        'url': article[2]\n",
    "    })\n"
   ]
  },
  {
   "cell_type": "code",
   "execution_count": 89,
   "metadata": {},
   "outputs": [
    {
     "data": {
      "text/plain": [
       "[{'id': 'l', 'url': 'e'},\n",
       " {'id': 'l', 'url': 'e'},\n",
       " {'id': 'n', 'url': 'i'},\n",
       " {'id': 'r', 'url': 'm'},\n",
       " {'id': 'a', 'url': 'k'},\n",
       " {'id': 'e', 'url': 'l'},\n",
       " {'id': 'e', 'url': 'l'},\n",
       " {'id': 'e', 'url': 'l'},\n",
       " {'id': 'o', 'url': 'x'},\n",
       " {'id': 'h', 'url': 'i'},\n",
       " {'id': 'u', 'url': 'r'},\n",
       " {'id': 'u', 'url': 'r'},\n",
       " {'id': 'u', 'url': 'r'},\n",
       " {'id': 'v', 'url': 'a'},\n",
       " {'id': 'v', 'url': 'a'},\n",
       " {'id': 'e', 'url': 'n'},\n",
       " {'id': 'e', 'url': 'o'},\n",
       " {'id': 'g', 'url': 'o'},\n",
       " {'id': 'h', 'url': 'e'},\n",
       " {'id': 'o', 'url': 's'},\n",
       " {'id': 'r', 'url': 'e'},\n",
       " {'id': 'u', 'url': 'k'},\n",
       " {'id': 'u', 'url': 'k'},\n",
       " {'id': 'u', 'url': 'k'},\n",
       " {'id': 'u', 'url': 'k'},\n",
       " {'id': 'u', 'url': 'k'},\n",
       " {'id': 'a', 'url': 'k'},\n",
       " {'id': 'e', 'url': 'd'},\n",
       " {'id': 'i', 'url': '6'},\n",
       " {'id': 'o', 'url': 'l'},\n",
       " {'id': 'o', 'url': 's'},\n",
       " {'id': 'a', 'url': 'v'},\n",
       " {'id': 'a', 'url': 'v'},\n",
       " {'id': 'o', 'url': 'r'},\n",
       " {'id': 'e', 'url': 'n'},\n",
       " {'id': 'o', 'url': 'l'},\n",
       " {'id': 'r', 'url': 'i'},\n",
       " {'id': 'r', 'url': 'i'},\n",
       " {'id': 'r', 'url': 'i'},\n",
       " {'id': 'r', 'url': 'i'},\n",
       " {'id': 'r', 'url': 'i'},\n",
       " {'id': 'r', 'url': 'i'},\n",
       " {'id': 'r', 'url': 'i'},\n",
       " {'id': 'r', 'url': 'i'},\n",
       " {'id': 'r', 'url': 'i'},\n",
       " {'id': 'r', 'url': 'i'},\n",
       " {'id': 'r', 'url': 'i'},\n",
       " {'id': 'u', 'url': 't'},\n",
       " {'id': 'u', 'url': 't'},\n",
       " {'id': 'u', 'url': 't'},\n",
       " {'id': 'u', 'url': 't'},\n",
       " {'id': 'u', 'url': 't'},\n",
       " {'id': 'u', 'url': 't'},\n",
       " {'id': 'u', 'url': 't'},\n",
       " {'id': 'u', 'url': 't'},\n",
       " {'id': 'u', 'url': 't'},\n",
       " {'id': 'u', 'url': 't'},\n",
       " {'id': 'u', 'url': 't'},\n",
       " {'id': 'u', 'url': 't'},\n",
       " {'id': 'u', 'url': 't'},\n",
       " {'id': 'u', 'url': 's'},\n",
       " {'id': 'u', 'url': 's'},\n",
       " {'id': 'u', 'url': 's'},\n",
       " {'id': 'u', 'url': 's'},\n",
       " {'id': 'u', 'url': 's'},\n",
       " {'id': 'u', 'url': 's'},\n",
       " {'id': 'u', 'url': 's'},\n",
       " {'id': 'u', 'url': 's'},\n",
       " {'id': 'u', 'url': 's'},\n",
       " {'id': 'u', 'url': 's'},\n",
       " {'id': 'u', 'url': 's'},\n",
       " {'id': 'u', 'url': 's'},\n",
       " {'id': 'u', 'url': 's'},\n",
       " {'id': 'u', 'url': 's'},\n",
       " {'id': 'u', 'url': 's'},\n",
       " {'id': 'u', 'url': 's'},\n",
       " {'id': 'u', 'url': 's'},\n",
       " {'id': 'u', 'url': 's'},\n",
       " {'id': 'u', 'url': 's'},\n",
       " {'id': 'u', 'url': 's'},\n",
       " {'id': 'u', 'url': 's'},\n",
       " {'id': 'u', 'url': 's'},\n",
       " {'id': 'u', 'url': 's'},\n",
       " {'id': 'u', 'url': 's'},\n",
       " {'id': 'u', 'url': 's'},\n",
       " {'id': 'u', 'url': 's'},\n",
       " {'id': 'u', 'url': 's'},\n",
       " {'id': 'u', 'url': 's'},\n",
       " {'id': 'u', 'url': 's'},\n",
       " {'id': 'u', 'url': 's'},\n",
       " {'id': 'u', 'url': 's'},\n",
       " {'id': 'u', 'url': 's'},\n",
       " {'id': 'u', 'url': 's'},\n",
       " {'id': 'u', 'url': 's'},\n",
       " {'id': 'u', 'url': 's'},\n",
       " {'id': 'u', 'url': 's'},\n",
       " {'id': 'u', 'url': 's'},\n",
       " {'id': 'u', 'url': 's'},\n",
       " {'id': 'u', 'url': 's'},\n",
       " {'id': 'u', 'url': 's'},\n",
       " {'id': 'c', 'url': 'o'},\n",
       " {'id': 't', 'url': '-'},\n",
       " {'id': 'u', 'url': 'r'},\n",
       " {'id': 'k', 'url': 'r'},\n",
       " {'id': 'k', 'url': 'r'},\n",
       " {'id': 'k', 'url': 'r'},\n",
       " {'id': 'k', 'url': 'r'},\n",
       " {'id': 'k', 'url': 'r'},\n",
       " {'id': 'l', 'url': 'a'},\n",
       " {'id': 'l', 'url': 'a'},\n",
       " {'id': 'a', 'url': 'g'},\n",
       " {'id': 'a', 'url': 'g'},\n",
       " {'id': 'a', 'url': 'g'},\n",
       " {'id': 'a', 'url': 'g'},\n",
       " {'id': 'a', 'url': 'g'},\n",
       " {'id': 'a', 'url': 'g'},\n",
       " {'id': 'a', 'url': 'g'},\n",
       " {'id': 'a', 'url': 'g'},\n",
       " {'id': 'a', 'url': 'g'},\n",
       " {'id': 'a', 'url': 'g'},\n",
       " {'id': 'a', 'url': 'g'},\n",
       " {'id': 'a', 'url': 'g'},\n",
       " {'id': 'e', 'url': 'v'}]"
      ]
     },
     "execution_count": 89,
     "metadata": {},
     "output_type": "execute_result"
    }
   ],
   "source": [
    "nodes"
   ]
  },
  {
   "cell_type": "code",
   "execution_count": null,
   "metadata": {},
   "outputs": [],
   "source": []
  }
 ],
 "metadata": {
  "kernelspec": {
   "display_name": "NewsCluster",
   "language": "python",
   "name": "python3"
  },
  "language_info": {
   "codemirror_mode": {
    "name": "ipython",
    "version": 3
   },
   "file_extension": ".py",
   "mimetype": "text/x-python",
   "name": "python",
   "nbconvert_exporter": "python",
   "pygments_lexer": "ipython3",
   "version": "3.11.2"
  }
 },
 "nbformat": 4,
 "nbformat_minor": 2
}
