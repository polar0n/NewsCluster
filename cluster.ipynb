{
 "cells": [
  {
   "cell_type": "code",
   "execution_count": 1,
   "metadata": {},
   "outputs": [],
   "source": [
    "import numpy as np"
   ]
  },
  {
   "cell_type": "code",
   "execution_count": 2,
   "metadata": {},
   "outputs": [],
   "source": [
    "corpus = np.load('corpus.npy')"
   ]
  },
  {
   "cell_type": "code",
   "execution_count": 19,
   "metadata": {},
   "outputs": [],
   "source": [
    "k = 10\n",
    "objective = list()\n",
    "centers = corpus[np.random.choice(np.arange(corpus.shape[0]), k, replace=False)]\n",
    "groups = np.array([np.argmin([np.linalg.norm(center - x) for center in centers]) for x in corpus])\n",
    "objective.append(\n",
    "    np.array([np.linalg.norm(corpus[i] - centers[groups[i]]) for i in range(corpus.shape[0])]).sum()\n",
    ")\n",
    "\n",
    "i = 0\n",
    "while True:\n",
    "    centers = np.array([corpus[groups == g].mean(axis=0) for g in range(k)])\n",
    "    groups = np.array([np.argmin([np.linalg.norm(center - x) for center in centers]) for x in corpus])\n",
    "    objective.append(\n",
    "        np.array([np.linalg.norm(corpus[i] - centers[groups[i]]) for i in range(corpus.shape[0])]).mean()\n",
    "    )\n",
    "    if i > 2 and ((objective[-1] - objective[-2]) + (objective[-2] - objective[-3])) < 1.0:\n",
    "        break\n",
    "    i += 1"
   ]
  },
  {
   "cell_type": "code",
   "execution_count": 20,
   "metadata": {},
   "outputs": [
    {
     "data": {
      "text/plain": [
       "np.float64(32.814230598181794)"
      ]
     },
     "execution_count": 20,
     "metadata": {},
     "output_type": "execute_result"
    }
   ],
   "source": [
    "objective[-1]"
   ]
  },
  {
   "cell_type": "code",
   "execution_count": 21,
   "metadata": {},
   "outputs": [
    {
     "data": {
      "text/plain": [
       "array([0, 0, 0, ..., 0, 0, 0])"
      ]
     },
     "execution_count": 21,
     "metadata": {},
     "output_type": "execute_result"
    }
   ],
   "source": [
    "corpus[groups == 0][0]"
   ]
  },
  {
   "cell_type": "markdown",
   "metadata": {},
   "source": [
    "How many articles in each cluster"
   ]
  },
  {
   "cell_type": "code",
   "execution_count": 22,
   "metadata": {},
   "outputs": [
    {
     "data": {
      "text/plain": [
       "{0: 127, 1: 58, 2: 89, 3: 439, 4: 230, 5: 190, 6: 839, 7: 156, 8: 823, 9: 53}"
      ]
     },
     "execution_count": 22,
     "metadata": {},
     "output_type": "execute_result"
    }
   ],
   "source": [
    "{g: corpus[groups == g].shape[0] for g in range(10)}"
   ]
  },
  {
   "cell_type": "markdown",
   "metadata": {},
   "source": [
    "Identify the words present in each cluster"
   ]
  },
  {
   "cell_type": "code",
   "execution_count": 23,
   "metadata": {},
   "outputs": [],
   "source": [
    "words = np.load('words.npy')"
   ]
  },
  {
   "cell_type": "code",
   "execution_count": 24,
   "metadata": {},
   "outputs": [],
   "source": [
    "cluster_word_histogram = corpus[groups == 5].sum(axis=0)"
   ]
  },
  {
   "cell_type": "code",
   "execution_count": 25,
   "metadata": {},
   "outputs": [],
   "source": [
    "non_zero_i = np.where(cluster_word_histogram > 0)"
   ]
  },
  {
   "cell_type": "code",
   "execution_count": 26,
   "metadata": {},
   "outputs": [],
   "source": [
    "cluster_hist_norm = cluster_word_histogram / np.linalg.norm(cluster_word_histogram)"
   ]
  },
  {
   "cell_type": "code",
   "execution_count": 27,
   "metadata": {},
   "outputs": [
    {
     "data": {
      "text/plain": [
       "dtype('float64')"
      ]
     },
     "execution_count": 27,
     "metadata": {},
     "output_type": "execute_result"
    }
   ],
   "source": [
    "cluster_hist_norm.dtype"
   ]
  },
  {
   "cell_type": "code",
   "execution_count": 28,
   "metadata": {},
   "outputs": [
    {
     "name": "stdout",
     "output_type": "stream",
     "text": [
      "missile brother attack state child strike president picture support administration war volodymyr friday dust region sense result middle city zelensky defense boy severity store russia day federation body rubble prosecutor kharkiv cnn address minister blue debris ministry village border chief thursday lady morning evening term analyst month meanwhile kyiv germany intelligence start battle territory count figure front monitoring week invasion lot information fleet action vladimir round source fight blast design force amount storage group ammunition reserve half chance equipment replacement way armor toll tank evidence britain infantry ukraine technology moscow website paper focus enforcement court street food law affiliate return shooting course worker goal david name france ceremony paris madrid building responsibility maintenance total crowd part phone northeast time cover area list woman world ticket turkey afternoon operation order flight terror face warrant security publication sign peninsula newspaper search religion terrorism bombing assault officer authority arrest station decision chancellor police training drone israel look suburb december march guest death honor tide investigation briefly wife girlfriend bomb official title gas connection magazine airport team step guard college jim attitude head minute opening form practice trophy game hand appearance sure nation ball competition side year foul shot none place victory martin something miami dream corner pressure call margin feel point tournament coach clash experience home michael play beginning kind championship win expectation basketball story season run loss university sunday need contest success vehicle potential rule bay parade road australia native talent ranking georgia program power pass hope eye role draft plenty class abc speed tackle nfl level opportunity jail driving injury journey floor prospect consideration hall ability selection decline starter champion carolina combination community crash england contact life uk california stock end rise member joy network ambition line teammate defeat field top staff player fine football branch washington service number pick spring los strength mexico africa star everything york turn discussion cup july zealand broadcast payment statement price organization money event trade qatar move sport panel italy development spain duty portion tennis record winner mistake russian june attempt match john wednesday jason rally water tension favorite set heart judge bit fact momentum monday saturday manager beat host door today cancer chicago right bottom rest tim wall drive answer inning slam spot thing series stranger moment contract stadium deal captain guy sight pitch process family center tone one display faith exception peace room drug space sky isolation darkness material future bed structure pat owner speculation light silence talk film departure purpose judgment tuesday uncertainty news medicine interest career gon stay mind perspective work trip extension interview someone everybody drama april choice joe press direction robert facility jersey chapter conference couple thank night dialogue character culture gratitude fire situation reality league matter love intention show route path safety case soccer executive minimum commitment anyone schedule rate piece site data glory get debut message reaction difference surface health tribute miller contention policy locker contender post idea accuracy surgery use recovery emotion fan overtime twitter grass vice september age occasion heir winning lack streak clarity option joseph partner trio change allen pga neighborhood footage tweet beach smile tom veteran rain disappointment pair insurance peter camp ben tour justin presence duo business agency kid ring drop history helm environment super award aim collection surprise position peak knee smith theater color issue voting london control cause opposition protest justice letter type impact blogger conviction inquiry argument procedure example august offense fear act provision person threat sentence custody think ruling movement care comfort scotland legislation government delivery prosecution subject outrage parliament progress director prison charity summer access lawmaker disease behalf threshold limit license decade poland crisis agenda crime birth landmark leg penalty wealth tie help stake lead mike clock inter finish milan atmosphere var nothing box victor manchester anxiety suggestion rape club spokesperson truth office kick messi institution jet rebellion living pain country comment banner touch luxury population vessel party industry climate reason campaign video standard land planet rio foot swimming seat performance race olympic dominance adam tokyo distance bag bbc dutch activity radio runner commission signal construction compensation house property apartment estate topic institute appeal professor town hit score base management article image girl committee stance fit ally research dress ambassador model everyone gender platform drinking criticism representative ownership scenario solution card commissioner division opponent percentage weekend release approval proposal plan meeting vote status era wing scrutiny participation chaos candidate spokesman transformation constitution general alternative migration mood alarm leadership olaf democracy union suspicion district election trust youth inflation opinion berlin warning energy secretary surveillance triumph danger polling page wake crackdown employment tradition sector public concept protection job past challenge october conflict percent parent alexander thomas syria afghanistan addition debate association army speaking man praise attention view influx chairman poll zone society facebook prince popularity response effort reputation armed conduct royal question friend cooperation museum stand awareness integrity shirt department racist skin celebration gesture education incident abuse rocket journalist courage brown reporter yesterday bakhmut respect basis bunch rome camera song colleague shelling reminder coordinator share citizen baby reporting birthday macron peskov market suffering table leader scheme recognition dmitry continent initiative petersburg grain shelter kremlin resolution putin fault approach academy mission survey capital nba project covid quarter fall read pandemic stage premier partnership back violence midfielder videos fixture mark collapse try playing tv flag caption putt par chest escape cut tee wave fun hole chris left save removal resort al saudi range pedro problem link fraud ban importance school wrongdoing emergency report firm firing board scene january trouble forward gun spoke southeast backdrop hearing suspect murder boston jack air value tool exhibition science river northwest belief detail reference legacy significance rock commander length landing satellite century resistance fee permission creation book launch meaning promise passion suit frustration iron helmet hold cost reconnaissance analysis wind earth anniversary array desire neighbor kingdom window republic rhetoric municipality minority emmanuel commentator car north independence system defender blinken mayor degree date context survival agreement west nato antony ground intervention regime majority open melbourne november rafael see atp announcement behavior resident disaster lawyer journal request membership allegation resignation chess fellow fa striker language cross fc silva referee activist trial prize politician belarus dignity charge freedom persecution tass referendum bus harm confrontation sorry damage version advantage fame arsenal restaurant dinner tunnel tenure company row friendship brand van feat aviation husband complaint coordination email ice adviser viktor europe marriage extreme switzerland presidency deputy council transfer factory eu bloc exercise detention ioc lithuania treaty father insurrection lukashenko son farm hockey der speech mother fifth agent proud humanity hate alexey account youtube channel claim hospital evacuation ria east nerve trail height crowds violation challenger hunger winter doctor christmas involvement assistance sleep boss treatment punishment fsb blow audience plane maria cell spirit daughter scale struggle outfit risk knowledge exchange denmark internet pride belgium photos solidarity voice variety athlete condition heat silver hour sound television guess concern gold arm exit capability fighter ii navy arizona feeling aircraft sister student teenage substitute la heritage generation hero shape error pool midfield squad priority mountain rescue munich embassy bridge victim professional medal confidence arena pattern researcher vision signing arabia phenomenon expression wider style motivation qualification second session stephen king communication author controversy wish horror shortage bill funding package artillery establishment burden losing kevin mutiny wagner biden dark production alliance budget doubt strategy trump stress chair pentagon counteroffensive resolve tomorrow music forum economy demand aid donald measure rob oil mainland period plant dna art contrast study max palace human discovery greece nature relationship memory assistant soul yevgeny arrival prigozhin medvedev killing founder frontline bar testing animal unit neck adult advocacy iii podcast discipline worth alcohol commentary pa exposure broadcaster messaging paul romania andrew identity condemnation conversation guidance advice influence gap online conspiracy thinking content pursuit et deadline proof god application male headquarters favor notice jury dan photo edge determination ovation break consistency metal circle draw serve achievement aftermath mean turnaround anything deficit djokovic capture inability kim credit thunder average sentiment george surge associate coalition visit teacher while explosion hometown dnipro teenager novosti pmc telegram mass possession mine section welcome stop increase sunak sweden assembly shock park operating mobilization rishi individual writing mom crew representation comparison passing nobody electricity hair size trend profile tragedy accident spell marine antonio euro residence pay fuel diplomat train dmytro push standing congress weaponry south resilience fashion battlefield stability austin aggression crown review racing horse running governing whistle smoke wait america tonight outlet coast el sporting anthem heard shop legend orange update highway cash attendance clothing sun pole sergey donetsk word soldier absence ambulance accordance settlement entrance breakaway supply passage traffic temperature church spokeswoman ceasefire pipeline corridor snow closure throw dispute province patrick bench preparation chechen relation supporter liverpool explanation blood close regulation encounter destination luck test stuff thought oleksandr reach possibility chelsea milestone depth pope ease entry category understand somebody sale task aryna sabalenka japan net iga regard wimbledon dog iran sent backlash venue roof asia learning china korea introduction weight track aspect rival dad concert taylor block lake admission investment dollar briefing meant capacity element labor island port defence come sheet counterpart balance sea landscape spending transition anthony crossing forth manner queen privacy canada trauma soil income discrimination closing watch occupation feature growth dozen effect photograph photographs breach boat weapon centre refugee weather ship ocean assessment cap phase location specialist machine command rear childhood distraction sex formation spread bureau shift burning noise sam fate plea anger sort gulf method hunt housing gift india advance existence grant southwest accountability indication volunteer complex relentless holiday extent midnight helicopter bank shoulder confusion foundation brain glimpse handling sovereignty recruitment expense combat warfare goalscorer relief mix note whole tony outside breakthrough intensity improvement mindset outcome conclusion lap excitement target steph pilot theme transport wreckage hardware consultation patience equivalent spotlight johnson fund offer kate band code export planning agriculture meat icon graham governor jacket met calm expert francis theory eve text intent cruise episode walk actor hotel scorer quality failure swing ride cabinet volume euros skill ryan raid hill contribution blame overnight appointment worldwide bid unity witness chain background truck bin document understanding hub infrastructure pledge engine repeat jon empire expansion torture sudan convention un beijing military citizenship pack stone tax flood backing cluster invitation split william glad movie key lee engineering green wta ivan daniil withdrawal usa completion brazil czech symbol writer disruption summit zaporizhzhia battalion devastation prisoner fighting crimea mariupol clip hanna string sbu bombardment procession sergei tayyip recep erdogan chase pension glass nickname soledar brigade donbas enemy boost luhansk square offensive isw factor gain destruction shoigu flow liga affair giant scandal europa scoring opener carlo sadness corruption pace instance pollution coaching flagship correspondent handful core imagery patriot gathering escalation uprising shell collaboration barrage holy upset clinic compatriot belt stint phil driver screen earthquake accommodation travel grip grandfather radar odesa benefit timing lesson shadow funeral globe westminster sevastopol kherson brink bull difficulty lawsuit las embarrassment portugal throne boris successor mp pm fallout reading finance loyalty passport precedent erik medalist circuit stretch guarantee ryder willingness chip applause serie goodbye phoenix harry reform framework rahm showing griner brittney diana delay storm haul oak tiger podolyak mykhailo coup prayer liberation buckingham coronation defensive kickoff reign jump feud miracle sovereign consort morale deployment makeshift matt format pep princess catherine businessman mentality oligarch predecessor manufacturer propaganda mikhail rail finland device del check calendar superiority mediterranean refusal qualifying balcony demonstration accession flooding aware festival tech leopard principle libya valery aston railway warsaw gerasimov\n"
     ]
    }
   ],
   "source": [
    "print(*words[non_zero_i])"
   ]
  },
  {
   "cell_type": "code",
   "execution_count": 29,
   "metadata": {},
   "outputs": [],
   "source": [
    "values_i = np.argsort(cluster_hist_norm)[::-1]"
   ]
  },
  {
   "cell_type": "code",
   "execution_count": 31,
   "metadata": {},
   "outputs": [
    {
     "name": "stdout",
     "output_type": "stream",
     "text": [
      "['al' 'la' 'el' ... 'jorge' 'kelce' 'giorgia']\n"
     ]
    }
   ],
   "source": [
    "words[values_i]"
   ]
  },
  {
   "cell_type": "code",
   "execution_count": null,
   "metadata": {},
   "outputs": [],
   "source": []
  }
 ],
 "metadata": {
  "kernelspec": {
   "display_name": "NewsCluster",
   "language": "python",
   "name": "python3"
  },
  "language_info": {
   "codemirror_mode": {
    "name": "ipython",
    "version": 3
   },
   "file_extension": ".py",
   "mimetype": "text/x-python",
   "name": "python",
   "nbconvert_exporter": "python",
   "pygments_lexer": "ipython3",
   "version": "3.11.2"
  }
 },
 "nbformat": 4,
 "nbformat_minor": 2
}
