{
 "cells": [
  {
   "cell_type": "code",
   "execution_count": 2,
   "metadata": {},
   "outputs": [],
   "source": [
    "import numpy as np"
   ]
  },
  {
   "cell_type": "code",
   "execution_count": 3,
   "metadata": {},
   "outputs": [],
   "source": [
    "corpus = np.load('corpus.npy')"
   ]
  },
  {
   "cell_type": "code",
   "execution_count": 10,
   "metadata": {},
   "outputs": [],
   "source": [
    "k = 10\n",
    "objective = list()\n",
    "centers = corpus[np.random.choice(np.arange(corpus.shape[0]), k, replace=False)]\n",
    "groups = np.array([np.argmin([np.linalg.norm(center - x) for center in centers]) for x in corpus])\n",
    "objective.append(\n",
    "    np.array([np.linalg.norm(corpus[i] - centers[groups[i]]) for i in range(corpus.shape[0])]).sum()\n",
    ")\n",
    "\n",
    "i = 0\n",
    "while True:\n",
    "    centers = np.array([corpus[groups == g].mean(axis=0) for g in range(k)])\n",
    "    groups = np.array([np.argmin([np.linalg.norm(center - x) for center in centers]) for x in corpus])\n",
    "    objective.append(\n",
    "        np.array([np.linalg.norm(corpus[i] - centers[groups[i]]) for i in range(corpus.shape[0])]).mean()\n",
    "    )\n",
    "    if i > 2 and ((objective[-1] - objective[-2]) + (objective[-2] - objective[-3])) < 1.0:\n",
    "        break\n",
    "    i += 1"
   ]
  },
  {
   "cell_type": "code",
   "execution_count": 11,
   "metadata": {},
   "outputs": [
    {
     "data": {
      "text/plain": [
       "np.float64(26.02381002185839)"
      ]
     },
     "execution_count": 11,
     "metadata": {},
     "output_type": "execute_result"
    }
   ],
   "source": [
    "objective[-1]"
   ]
  },
  {
   "cell_type": "code",
   "execution_count": 21,
   "metadata": {},
   "outputs": [
    {
     "data": {
      "text/plain": [
       "array([0, 0, 0, ..., 0, 0, 0])"
      ]
     },
     "execution_count": 21,
     "metadata": {},
     "output_type": "execute_result"
    }
   ],
   "source": [
    "corpus[groups == 0][0]"
   ]
  },
  {
   "cell_type": "markdown",
   "metadata": {},
   "source": [
    "How many articles in each cluster"
   ]
  },
  {
   "cell_type": "code",
   "execution_count": 27,
   "metadata": {},
   "outputs": [
    {
     "data": {
      "text/plain": [
       "{0: 540, 1: 125, 2: 1250, 3: 357, 4: 88, 5: 170, 6: 53, 7: 144, 8: 65, 9: 212}"
      ]
     },
     "execution_count": 27,
     "metadata": {},
     "output_type": "execute_result"
    }
   ],
   "source": [
    "{g: corpus[groups == g].shape[0] for g in range(10)}"
   ]
  },
  {
   "cell_type": "markdown",
   "metadata": {},
   "source": [
    "Identify the words present in each cluster"
   ]
  },
  {
   "cell_type": "code",
   "execution_count": 24,
   "metadata": {},
   "outputs": [],
   "source": [
    "words = np.load('words.npy')"
   ]
  },
  {
   "cell_type": "code",
   "execution_count": 42,
   "metadata": {},
   "outputs": [],
   "source": [
    "cluster_word_histogram = corpus[groups == 5].sum(axis=0)"
   ]
  },
  {
   "cell_type": "code",
   "execution_count": 43,
   "metadata": {},
   "outputs": [],
   "source": [
    "non_zero_i = np.where(cluster_word_histogram > 0)"
   ]
  },
  {
   "cell_type": "code",
   "execution_count": 44,
   "metadata": {},
   "outputs": [],
   "source": [
    "cluster_hist_norm = cluster_word_histogram / np.linalg.norm(cluster_word_histogram)"
   ]
  },
  {
   "cell_type": "code",
   "execution_count": 48,
   "metadata": {},
   "outputs": [
    {
     "data": {
      "text/plain": [
       "dtype('float64')"
      ]
     },
     "execution_count": 48,
     "metadata": {},
     "output_type": "execute_result"
    }
   ],
   "source": [
    "cluster_hist_norm.dtype"
   ]
  },
  {
   "cell_type": "code",
   "execution_count": 45,
   "metadata": {},
   "outputs": [
    {
     "name": "stdout",
     "output_type": "stream",
     "text": [
      "boy strike city picture body middle rubble blue dust debris child morning missile ministry border photo grandmother brother state administration chief evening address hospital result invasion severity attack day village region store cafe sense war support half tank fleet start information monitoring group source intelligence website evidence equipment week toll analyst chance focus territory battlefield fight way count month technology battle enemy armor design round ammunition blast box effect storage front reserve paper lot action force replacement amount term figure infantry look terror total magazine suburb court goal religion publication death title newspaper decision bomb descent police affiliate time face drone training bombing prison investigation plot phone part shooting woman airport flight man return nation security course prosecutor wife terrorism terrorist network guest maintenance worker officer building street range name search area northeast food gas station law enforcement official list briefly hostage afternoon assault operation world march crowd market honor ceremony arrest warrant connection cover sign responsibility kind season college corner team tournament play none story win history basket opening ball clash guard school feel appearance victory foul call game hand hip shot attempt lead dream opponent defense step something sure minute coach side stage year head form home loss margin run place beginning attitude practice competition pressure experience trophy expectation point spring hope joy top order life organization ambition pick draft star ability prospect everything champion coverage level native player field tape contact talent need decline departure accuracy plenty number class selection floor potential stock role crash teammate football staff member parade driving racing program vehicle hour road power contest fine community service combination speed strength line success end opportunity injury defeat consideration starter rise rule eye journey broadcast panel discussion price statement move pay duty sport turn event money portion payment development rally match favorite set mistake winner tension record tennis challenge water stranger catch inning drive momentum door fence wall bit spot manager heart beat host series foot answer today rest slam bottom cancer moment fact thing sight display pitch league plate family one captain faith contract deal process guy right center tone darkness retreat owner facility comment isolation peace mind future drug silence didn policy structure space light bed exception visit company material room percent trip stay film judgment news work uncertainty extension speculation trade talk purpose career perspective gon interest medicine interview summer everybody someone drama direction couple chapter choice press conference jersey making thank dialogue culture character recipient bone night intention love reality situation fire matter route path show debut surgery schedule recovery Twitter commitment edge ground tent locker overtime flag tribute reaction emotion piece anyone fan minimum contention idea grass soccer post site difference rate executive vice president health safety surface doesn mean case data message use lack heir option occasion clarity age winning streak partner camp pair rain disappointment veteran tweet neighborhood footage hole smile change presence footballer trio peak aim business kid surprise podium position helm agency drop link award knee collection ring environment medication pregnancy limit legislation justice country custody remainder license release protest movement access progress government theater blogger threat threshold sentence judge heard act letter prosecution fear landmark conviction decade opposition lawmaker parliament outrage anger type ruling closer offense subject argument care example color crisis procedure comfort isn delivery issue birth inquiry cause behalf crime impact voting provision agenda consensus stake tie suggestion atmosphere clock net finish wealth help Nothing nothing anxiety leg rape office kick truth spokesperson club system institution video banner vessel population pain planet land standard living reason shipping industry jet touch party campaign luxury climate performance dominance gold race Everyone seat radio distance bag person page activity runner house town commission property appeal professor briefing apartment compensation ideology signal topic construction estate zone score hit base model image fit girl dress research drinking article stance ally view criticism everyone platform representative management plan meeting solution proposal approval ownership conclusion weekend percentage card division vote candidate leadership surveillance district alarm election warning secretary general spokesman democracy inflation energy transformation migrant scrutiny status suspicion era youth wing migration trust opinion triumph participation chaos mood concept society behavior ban employment public sector chairman parent train army wake soldier praise past job tradition protection contribution extremism danger nobody hierarchy violence crackdown leader prince popularity polling debate conflict outbreak addition influx poll attention probe effort friend individual question withdrawal conduct response cooperation reputation stand racist shirt skin gesture education abuse incident celebration awareness journalist rocket coordinator reporting citizen reporter grief reminder basis camera yesterday bunch song baby shelling share courage ambassador birthday colleague delegation table approach recognition grain turmoil fault scheme shelter capital continent Today suffering initiative resolution partnership pandemic quarter century survey mission fixture object dressing midfielder back channel tee left mud chest removal putt par mark wave collapse green escape TV playing pride fun cut try caption read director report firing emergency integrity firm importance wrongdoing problem backdrop witness murder university gun scene department suspect hearing hasn trouble forward moon control creation suit launch None cost analysis meaning efficiency permission promise tool rock commander length desire frustration detail anniversary hold frame book helmet representation photographer significance array prize reference scale satellite wind disaster get bunker nature assessment claim air resistance value fee belief landing legacy science exhibition north context car window date majority turnout mayor authority republic minister implementation agreement degree minority genocide regime independence intervention neighbor concern survival commentator defender chess federation membership announcement lawyer resident allegation fellow resignation request charge language referee cross respect colony trial freedom imprisonment persecution activist referendum politician delay confrontation bus harm damage advantage sorry version van tunnel friendship dinner restaurant wine row feat brand tenure farm deputy presidency treaty union coronavirus ice stadium husband complaint speech factory son email plane airspace der bloc adviser detention coordination passenger aviation insurrection transfer father account hate humanity agent period proud fifth critic east nerve evacuation involvement trail outfit knowledge bid boss cell blow weight daughter treatment height temperature doctor assistance goodbye crowds struggle jail violation poisoning hunger sleep winter punishment risk audience spirit variety solidarity voice internet heat arm silver weakness sound condition athlete motion television couldn medal exit capability crew aircraft feeling student sister pass Year hometown hero heritage generation shape pool error teenage track midfield priority don squad victim bridge mountain rescue embassy aware attacker professional sample substance fighter confidence researcher signing wider pattern phenomenon expression vision motivation style session tour second controversy mother passport horror author think shortage aid economy tomorrow strategy Ukraine alliance attrition bill measure funding budget package doubt counteroffensive pack burden rhetoric music demand artillery production chair stress losing haul establishment balance project credibility mutiny resolve dark human study mainland tree discovery proportion oil contrast plant art palace cave peninsula relationship memory soul assistant asylum identity arrival killing frontline bar founder neck collision discipline testing animal unit broadcaster trafficking alcohol knife conversation condemnation file commentary online belt content advocacy root spat worth communication influence thinking podcast conspiracy advice messaging guidance gap gang pursuit innocence indictment deadline objective proof application male Everybody headquarters favor notice break determination circle ranking metal aftermath draw serve competitor anything toilet deficit joke capture inability finger tonight ve hell credit lady sentiment average spotlight chancellor teacher associate surge coalition deadlock while explosion mass disinformation possession teenager propaganda stop rating master section mine increase welcome reply panic operating shock park mobilization employee mess grace mom writing confirmation arena size profile passing electricity comparison trend arsenal hair accident loan spell tragedy aspect residence diplomat weaponry sheet aggression standing stability south push unity fashion cemetery resilience fall fuel come running horse trainer review smoke whistle governing wait anthem outlet coast sporting legend shop cup update producer highway disappearance orange cash attendance clothing word traffic entrance breakaway corridor ceasefire passage supply blockade stone ambulance affair meal church coffee exchange aggressor snow pipeline absence settlement dispute spokeswoman accordance save province memorial relation preparation board taste supporter explanation encounter destination luck blood close counterattack regulation test reach pace milestone stuff depth possibility thought ease scenario quarterfinal youngster somebody entry happen sale task Nobody format council regard dog sent backlash roof operator venue cloud videos introduction category documentary learning rival mile dad meet clutch concert block submarine expansion labor timeline port dollar combat bullet investment diplomacy sea admission transition element product spending landscape island meant capacity terrain brain map crossing privilege manner forth privacy occupation takeover closing discrimination trauma feature breath soil consultation growth dozen boat refugee breach weapon visa testimony relentless retaliation photographs photograph ship specialist cap location phase weather command machine southeast rear distraction jury childhood accommodation formation sun watch alert shift spread burning blaze fate noise plea target west fishing storm sort cargo method museum housing charity pledge gift southwest volunteer indication lie accountability existence meat sex cycle complex holiday extent hunt midnight outside helicopter disease concussion shoulder confusion origin glimpse handling emphasis sovereignty warfare recruitment expense relief mix whole counterpart guide breakthrough intensity improvement note sit mindset app outcome tense lap bank pilot resort altitude wreckage theme tag hardware patience optimism advance fund revenue equivalent band offer export planning guilt governor rehabilitation disorder jacket theory function expert text bike intent cruise eve episode household actor walk plastic screen quality swing failure salary skill volume ride cabinet catastrophe raid inside hotel maternity overnight appointment worldwide lunch stomach chain background truck bin document understanding zero coal infrastructure carbon marine exercise spoke engine repeat mode branch empire pact torture entirety citizenship military tax lifetime backing engagement flood cluster invitation see hat split liberation movie wasn key deportation basement policing instance script crown benefit completion symbol continue spectacle writer disruption driver identification summit reconnaissance bombardment string devastation clip imagery earth gear fighting procession blame prisoner trench defensive bread pension river glass brigade entity gain manpower throw northwest boost concentration battalion offensive factor mercy firepower destruction homeland sky flow corruption Świątek strain stroke giant scandal scoring king sadness nickname coaching bear handful core speaking gathering escalation struck rebellion uprising warlord convoy treason shell collaboration annexation sabotage globe barrage mortar holy upset clinic circuit compatriot earthquake travel grip grandfather square radar accession timing lesson shadow funeral coffin tier difficulty embarrassment calm pile successor narrative fallout reading finance precedent predecessor mph boxing foundation engineering guarantee willingness stretch hug chip applause gym framework reform assembly royal showing hall recording uniform coup execution wage monarch coronation ventilator uncle oxygen reign jump feud miracle sovereign makeshift morale deployment demolition businessman oligarch mentality espionage manufacturer agriculture skepticism Everything rail device check calendar superiority refusal brutality bout Prince balcony hub revenge dissent flooding readiness definition transport festival quake hiding flagship reservoir principle unrest pit railway adoption understand presentation dam autumn\n"
     ]
    }
   ],
   "source": [
    "print(*words[non_zero_i])"
   ]
  },
  {
   "cell_type": "code",
   "execution_count": 100,
   "metadata": {},
   "outputs": [],
   "source": [
    "values_i = np.argsort(cluster_hist_norm)[::-1]"
   ]
  },
  {
   "cell_type": "code",
   "execution_count": 102,
   "metadata": {},
   "outputs": [
    {
     "data": {
      "text/plain": [
       "array(['ve', 'rain', 'hat', ..., 'duke', 'slalom', 'pope'], dtype='<U16')"
      ]
     },
     "execution_count": 102,
     "metadata": {},
     "output_type": "execute_result"
    }
   ],
   "source": [
    "words[values_i]"
   ]
  },
  {
   "cell_type": "code",
   "execution_count": null,
   "metadata": {},
   "outputs": [],
   "source": []
  }
 ],
 "metadata": {
  "kernelspec": {
   "display_name": "NewsCluster",
   "language": "python",
   "name": "python3"
  },
  "language_info": {
   "codemirror_mode": {
    "name": "ipython",
    "version": 3
   },
   "file_extension": ".py",
   "mimetype": "text/x-python",
   "name": "python",
   "nbconvert_exporter": "python",
   "pygments_lexer": "ipython3",
   "version": "3.11.2"
  }
 },
 "nbformat": 4,
 "nbformat_minor": 2
}
